{
 "cells": [
  {
   "cell_type": "markdown",
   "metadata": {},
   "source": [
    "# Connect MySQL Using Python "
   ]
  },
  {
   "cell_type": "code",
   "execution_count": 1,
   "metadata": {
    "ExecuteTime": {
     "end_time": "2020-02-13T21:46:55.845570Z",
     "start_time": "2020-02-13T21:46:54.807874Z"
    }
   },
   "outputs": [],
   "source": [
    "import pandas as pd \n",
    "import numpy as np \n",
    "import datetime\n",
    "import mysql.connector \n",
    "from sqlalchemy import create_engine\n",
    "\n",
    "%run auth.py"
   ]
  },
  {
   "cell_type": "markdown",
   "metadata": {},
   "source": [
    "## Use mysql.connector "
   ]
  },
  {
   "cell_type": "code",
   "execution_count": 2,
   "metadata": {
    "ExecuteTime": {
     "end_time": "2020-02-13T21:46:55.984036Z",
     "start_time": "2020-02-13T21:46:55.848616Z"
    },
    "scrolled": false
   },
   "outputs": [
    {
     "name": "stdout",
     "output_type": "stream",
     "text": [
      "Nourani, Ewing was hired on 01 Jan 1999\n",
      "Auria, Hongzue was hired on 01 Jan 1999\n",
      "Covnot, Filipp was hired on 02 Jan 1999\n",
      "Piveteau, Jianhua was hired on 02 Jan 1999\n",
      "Melton, Yuqun was hired on 01 Jan 1999\n",
      "Ramsey, Duke was hired on 02 Jan 1999\n",
      "Journel, Edwin was hired on 02 Jan 1999\n",
      "Sullins, Gal was hired on 02 Jan 1999\n",
      "Hellwagner, Martina was hired on 01 Jan 1999\n",
      "Nittel, Supot was hired on 02 Jan 1999\n",
      "Benaini, Eben was hired on 01 Jan 1999\n",
      "Jahnichen, Abdelaziz was hired on 02 Jan 1999\n",
      "Picco, Younwoo was hired on 01 Jan 1999\n"
     ]
    }
   ],
   "source": [
    "database = 'employees'\n",
    "\n",
    "cnx = mysql.connector.connect(**config,database=database)\n",
    "cursor = cnx.cursor()\n",
    "\n",
    "query = (\"SELECT first_name, last_name, hire_date FROM employees \"\n",
    "             \"WHERE hire_date BETWEEN %s AND %s;\")\n",
    "\n",
    "hire_start = datetime.date(1999, 1, 1)\n",
    "hire_end = datetime.date(1999, 1, 2)\n",
    "\n",
    "cursor.execute(query, (hire_start, hire_end))\n",
    "\n",
    "for (first_name, last_name, hire_date) in cursor:\n",
    "    print(\"{}, {} was hired on {:%d %b %Y}\".format(last_name, first_name, hire_date))\n",
    "\n",
    "cursor.close()\n",
    "cnx.close()"
   ]
  },
  {
   "cell_type": "code",
   "execution_count": 3,
   "metadata": {
    "ExecuteTime": {
     "end_time": "2020-02-13T21:46:55.993797Z",
     "start_time": "2020-02-13T21:46:55.987865Z"
    }
   },
   "outputs": [],
   "source": [
    "def run_query(query):\n",
    "    cnx = mysql.connector.connect(**config,database=database)\n",
    "    cursor = cnx.cursor()\n",
    "    cursor.execute(query)\n",
    "    rows = cursor.fetchall()\n",
    "    df = pd.DataFrame(rows)\n",
    "    cursor.close()\n",
    "    cnx.close()\n",
    "    return df "
   ]
  },
  {
   "cell_type": "code",
   "execution_count": 4,
   "metadata": {
    "ExecuteTime": {
     "end_time": "2020-02-13T21:46:56.044739Z",
     "start_time": "2020-02-13T21:46:55.999692Z"
    }
   },
   "outputs": [
    {
     "data": {
      "text/html": [
       "<div>\n",
       "<style scoped>\n",
       "    .dataframe tbody tr th:only-of-type {\n",
       "        vertical-align: middle;\n",
       "    }\n",
       "\n",
       "    .dataframe tbody tr th {\n",
       "        vertical-align: top;\n",
       "    }\n",
       "\n",
       "    .dataframe thead th {\n",
       "        text-align: right;\n",
       "    }\n",
       "</style>\n",
       "<table border=\"1\" class=\"dataframe\">\n",
       "  <thead>\n",
       "    <tr style=\"text-align: right;\">\n",
       "      <th></th>\n",
       "      <th>0</th>\n",
       "    </tr>\n",
       "  </thead>\n",
       "  <tbody>\n",
       "    <tr>\n",
       "      <th>0</th>\n",
       "      <td>current_dept_emp</td>\n",
       "    </tr>\n",
       "    <tr>\n",
       "      <th>1</th>\n",
       "      <td>departments</td>\n",
       "    </tr>\n",
       "    <tr>\n",
       "      <th>2</th>\n",
       "      <td>dept_emp</td>\n",
       "    </tr>\n",
       "    <tr>\n",
       "      <th>3</th>\n",
       "      <td>dept_emp_latest_date</td>\n",
       "    </tr>\n",
       "    <tr>\n",
       "      <th>4</th>\n",
       "      <td>dept_manager</td>\n",
       "    </tr>\n",
       "    <tr>\n",
       "      <th>5</th>\n",
       "      <td>employees</td>\n",
       "    </tr>\n",
       "    <tr>\n",
       "      <th>6</th>\n",
       "      <td>salaries</td>\n",
       "    </tr>\n",
       "    <tr>\n",
       "      <th>7</th>\n",
       "      <td>titles</td>\n",
       "    </tr>\n",
       "    <tr>\n",
       "      <th>8</th>\n",
       "      <td>v_full_departments</td>\n",
       "    </tr>\n",
       "    <tr>\n",
       "      <th>9</th>\n",
       "      <td>v_full_employees</td>\n",
       "    </tr>\n",
       "  </tbody>\n",
       "</table>\n",
       "</div>"
      ],
      "text/plain": [
       "                      0\n",
       "0      current_dept_emp\n",
       "1           departments\n",
       "2              dept_emp\n",
       "3  dept_emp_latest_date\n",
       "4          dept_manager\n",
       "5             employees\n",
       "6              salaries\n",
       "7                titles\n",
       "8    v_full_departments\n",
       "9      v_full_employees"
      ]
     },
     "execution_count": 4,
     "metadata": {},
     "output_type": "execute_result"
    }
   ],
   "source": [
    "run_query(\"SHOW TABLES;\")"
   ]
  },
  {
   "cell_type": "code",
   "execution_count": 5,
   "metadata": {
    "ExecuteTime": {
     "end_time": "2020-02-13T21:46:56.290663Z",
     "start_time": "2020-02-13T21:46:56.054421Z"
    }
   },
   "outputs": [
    {
     "data": {
      "text/html": [
       "<div>\n",
       "<style scoped>\n",
       "    .dataframe tbody tr th:only-of-type {\n",
       "        vertical-align: middle;\n",
       "    }\n",
       "\n",
       "    .dataframe tbody tr th {\n",
       "        vertical-align: top;\n",
       "    }\n",
       "\n",
       "    .dataframe thead th {\n",
       "        text-align: right;\n",
       "    }\n",
       "</style>\n",
       "<table border=\"1\" class=\"dataframe\">\n",
       "  <thead>\n",
       "    <tr style=\"text-align: right;\">\n",
       "      <th></th>\n",
       "      <th>0</th>\n",
       "      <th>1</th>\n",
       "    </tr>\n",
       "  </thead>\n",
       "  <tbody>\n",
       "    <tr>\n",
       "      <th>0</th>\n",
       "      <td>Bikash</td>\n",
       "      <td>Covnot</td>\n",
       "    </tr>\n",
       "  </tbody>\n",
       "</table>\n",
       "</div>"
      ],
      "text/plain": [
       "        0       1\n",
       "0  Bikash  Covnot"
      ]
     },
     "execution_count": 5,
     "metadata": {},
     "output_type": "execute_result"
    }
   ],
   "source": [
    "run_query(\n",
    "    \"SELECT first_name, last_name \"\n",
    "    \"FROM employees WHERE hire_date = (SELECT MAX(hire_date) FROM employees);\"\n",
    ")"
   ]
  },
  {
   "cell_type": "code",
   "execution_count": 6,
   "metadata": {
    "ExecuteTime": {
     "end_time": "2020-02-13T21:46:56.649689Z",
     "start_time": "2020-02-13T21:46:56.296526Z"
    }
   },
   "outputs": [
    {
     "data": {
      "text/html": [
       "<div>\n",
       "<style scoped>\n",
       "    .dataframe tbody tr th:only-of-type {\n",
       "        vertical-align: middle;\n",
       "    }\n",
       "\n",
       "    .dataframe tbody tr th {\n",
       "        vertical-align: top;\n",
       "    }\n",
       "\n",
       "    .dataframe thead th {\n",
       "        text-align: right;\n",
       "    }\n",
       "</style>\n",
       "<table border=\"1\" class=\"dataframe\">\n",
       "  <thead>\n",
       "    <tr style=\"text-align: right;\">\n",
       "      <th></th>\n",
       "      <th>0</th>\n",
       "      <th>1</th>\n",
       "    </tr>\n",
       "  </thead>\n",
       "  <tbody>\n",
       "    <tr>\n",
       "      <th>0</th>\n",
       "      <td>Assistant Engineer</td>\n",
       "      <td>15128</td>\n",
       "    </tr>\n",
       "    <tr>\n",
       "      <th>1</th>\n",
       "      <td>Engineer</td>\n",
       "      <td>115003</td>\n",
       "    </tr>\n",
       "    <tr>\n",
       "      <th>2</th>\n",
       "      <td>Manager</td>\n",
       "      <td>24</td>\n",
       "    </tr>\n",
       "    <tr>\n",
       "      <th>3</th>\n",
       "      <td>Senior Engineer</td>\n",
       "      <td>97750</td>\n",
       "    </tr>\n",
       "    <tr>\n",
       "      <th>4</th>\n",
       "      <td>Senior Staff</td>\n",
       "      <td>92853</td>\n",
       "    </tr>\n",
       "    <tr>\n",
       "      <th>5</th>\n",
       "      <td>Staff</td>\n",
       "      <td>107391</td>\n",
       "    </tr>\n",
       "    <tr>\n",
       "      <th>6</th>\n",
       "      <td>Technique Leader</td>\n",
       "      <td>15159</td>\n",
       "    </tr>\n",
       "  </tbody>\n",
       "</table>\n",
       "</div>"
      ],
      "text/plain": [
       "                    0       1\n",
       "0  Assistant Engineer   15128\n",
       "1            Engineer  115003\n",
       "2             Manager      24\n",
       "3     Senior Engineer   97750\n",
       "4        Senior Staff   92853\n",
       "5               Staff  107391\n",
       "6    Technique Leader   15159"
      ]
     },
     "execution_count": 6,
     "metadata": {},
     "output_type": "execute_result"
    }
   ],
   "source": [
    "run_query(\"SELECT title, COUNT(*) FROM titles GROUP BY 1 ORDER BY 1;\")"
   ]
  },
  {
   "cell_type": "markdown",
   "metadata": {},
   "source": [
    "## Use sqlalchemy.create_engine"
   ]
  },
  {
   "cell_type": "code",
   "execution_count": 7,
   "metadata": {
    "ExecuteTime": {
     "end_time": "2020-02-13T21:46:56.676485Z",
     "start_time": "2020-02-13T21:46:56.654108Z"
    }
   },
   "outputs": [],
   "source": [
    "database = 'employees'\n",
    "engine = create_engine(uri+database, echo=False)"
   ]
  },
  {
   "cell_type": "code",
   "execution_count": 8,
   "metadata": {
    "ExecuteTime": {
     "end_time": "2020-02-13T21:46:56.691203Z",
     "start_time": "2020-02-13T21:46:56.679871Z"
    }
   },
   "outputs": [],
   "source": [
    "def sql_to_pd(query):\n",
    "    df = pd.read_sql(query, engine)\n",
    "    return df "
   ]
  },
  {
   "cell_type": "code",
   "execution_count": 9,
   "metadata": {
    "ExecuteTime": {
     "end_time": "2020-02-13T21:46:57.158239Z",
     "start_time": "2020-02-13T21:46:56.702860Z"
    }
   },
   "outputs": [
    {
     "data": {
      "text/html": [
       "<div>\n",
       "<style scoped>\n",
       "    .dataframe tbody tr th:only-of-type {\n",
       "        vertical-align: middle;\n",
       "    }\n",
       "\n",
       "    .dataframe tbody tr th {\n",
       "        vertical-align: top;\n",
       "    }\n",
       "\n",
       "    .dataframe thead th {\n",
       "        text-align: right;\n",
       "    }\n",
       "</style>\n",
       "<table border=\"1\" class=\"dataframe\">\n",
       "  <thead>\n",
       "    <tr style=\"text-align: right;\">\n",
       "      <th></th>\n",
       "      <th>title</th>\n",
       "      <th>number_hired</th>\n",
       "    </tr>\n",
       "  </thead>\n",
       "  <tbody>\n",
       "    <tr>\n",
       "      <th>0</th>\n",
       "      <td>Assistant Engineer</td>\n",
       "      <td>15128</td>\n",
       "    </tr>\n",
       "    <tr>\n",
       "      <th>1</th>\n",
       "      <td>Engineer</td>\n",
       "      <td>115003</td>\n",
       "    </tr>\n",
       "    <tr>\n",
       "      <th>2</th>\n",
       "      <td>Manager</td>\n",
       "      <td>24</td>\n",
       "    </tr>\n",
       "    <tr>\n",
       "      <th>3</th>\n",
       "      <td>Senior Engineer</td>\n",
       "      <td>97750</td>\n",
       "    </tr>\n",
       "    <tr>\n",
       "      <th>4</th>\n",
       "      <td>Senior Staff</td>\n",
       "      <td>92853</td>\n",
       "    </tr>\n",
       "    <tr>\n",
       "      <th>5</th>\n",
       "      <td>Staff</td>\n",
       "      <td>107391</td>\n",
       "    </tr>\n",
       "    <tr>\n",
       "      <th>6</th>\n",
       "      <td>Technique Leader</td>\n",
       "      <td>15159</td>\n",
       "    </tr>\n",
       "  </tbody>\n",
       "</table>\n",
       "</div>"
      ],
      "text/plain": [
       "                title  number_hired\n",
       "0  Assistant Engineer         15128\n",
       "1            Engineer        115003\n",
       "2             Manager            24\n",
       "3     Senior Engineer         97750\n",
       "4        Senior Staff         92853\n",
       "5               Staff        107391\n",
       "6    Technique Leader         15159"
      ]
     },
     "execution_count": 9,
     "metadata": {},
     "output_type": "execute_result"
    }
   ],
   "source": [
    "sql_to_pd('SELECT title, COUNT(*) AS number_hired FROM titles GROUP BY 1 ORDER BY 1;')"
   ]
  },
  {
   "cell_type": "code",
   "execution_count": 10,
   "metadata": {
    "ExecuteTime": {
     "end_time": "2020-02-13T21:46:57.545713Z",
     "start_time": "2020-02-13T21:46:57.160553Z"
    }
   },
   "outputs": [
    {
     "data": {
      "text/html": [
       "<div>\n",
       "<style scoped>\n",
       "    .dataframe tbody tr th:only-of-type {\n",
       "        vertical-align: middle;\n",
       "    }\n",
       "\n",
       "    .dataframe tbody tr th {\n",
       "        vertical-align: top;\n",
       "    }\n",
       "\n",
       "    .dataframe thead th {\n",
       "        text-align: right;\n",
       "    }\n",
       "</style>\n",
       "<table border=\"1\" class=\"dataframe\">\n",
       "  <thead>\n",
       "    <tr style=\"text-align: right;\">\n",
       "      <th></th>\n",
       "      <th>title</th>\n",
       "      <th>number_hired</th>\n",
       "    </tr>\n",
       "  </thead>\n",
       "  <tbody>\n",
       "    <tr>\n",
       "      <th>0</th>\n",
       "      <td>Assistant Engineer</td>\n",
       "      <td>15128</td>\n",
       "    </tr>\n",
       "    <tr>\n",
       "      <th>1</th>\n",
       "      <td>Engineer</td>\n",
       "      <td>115003</td>\n",
       "    </tr>\n",
       "    <tr>\n",
       "      <th>2</th>\n",
       "      <td>Manager</td>\n",
       "      <td>24</td>\n",
       "    </tr>\n",
       "    <tr>\n",
       "      <th>3</th>\n",
       "      <td>Senior Engineer</td>\n",
       "      <td>97750</td>\n",
       "    </tr>\n",
       "    <tr>\n",
       "      <th>4</th>\n",
       "      <td>Senior Staff</td>\n",
       "      <td>92853</td>\n",
       "    </tr>\n",
       "    <tr>\n",
       "      <th>5</th>\n",
       "      <td>Staff</td>\n",
       "      <td>107391</td>\n",
       "    </tr>\n",
       "    <tr>\n",
       "      <th>6</th>\n",
       "      <td>Technique Leader</td>\n",
       "      <td>15159</td>\n",
       "    </tr>\n",
       "  </tbody>\n",
       "</table>\n",
       "</div>"
      ],
      "text/plain": [
       "                title  number_hired\n",
       "0  Assistant Engineer         15128\n",
       "1            Engineer        115003\n",
       "2             Manager            24\n",
       "3     Senior Engineer         97750\n",
       "4        Senior Staff         92853\n",
       "5               Staff        107391\n",
       "6    Technique Leader         15159"
      ]
     },
     "execution_count": 10,
     "metadata": {},
     "output_type": "execute_result"
    }
   ],
   "source": [
    "sql_to_pd('SELECT title, COUNT(*) AS number_hired FROM titles GROUP BY 1 ORDER BY 1;')"
   ]
  },
  {
   "cell_type": "code",
   "execution_count": 11,
   "metadata": {
    "ExecuteTime": {
     "end_time": "2020-02-13T21:46:57.599063Z",
     "start_time": "2020-02-13T21:46:57.571193Z"
    }
   },
   "outputs": [],
   "source": [
    "query1=(\"SELECT YEAR(from_date) AS year, \"\n",
    "        \"SUM(CASE WHEN title = 'Assistant Engineer' THEN 1 ELSE 0 END) AS 'AssistantEngineer', \"\n",
    "        \"SUM(CASE WHEN title = 'Engineer' THEN 1 ELSE 0 END) AS 'Engineer', \"\n",
    "        \"SUM(CASE WHEN title = 'Manager' THEN 1 ELSE 0 END) AS 'Manager', \"\n",
    "        \"SUM(CASE WHEN title = 'Senior Engineer' THEN 1 ELSE 0 END) AS 'SeniorEngineer', \"\n",
    "        \"SUM(CASE WHEN title = 'Senior Staff' THEN 1 ELSE 0 END) AS 'SeniorStaff', \"\n",
    "        \"SUM(CASE WHEN title = 'Staff' THEN 1 ELSE 0 END) AS 'Staff', \"\n",
    "        \"SUM(CASE WHEN title = 'Technique Leader' THEN 1 ELSE 0 END) AS 'TechniqueLeader' \" \n",
    "        \"FROM titles GROUP BY 1 ORDER BY 1; \") "
   ]
  },
  {
   "cell_type": "code",
   "execution_count": 12,
   "metadata": {
    "ExecuteTime": {
     "end_time": "2020-02-13T21:46:58.673794Z",
     "start_time": "2020-02-13T21:46:57.609773Z"
    }
   },
   "outputs": [
    {
     "data": {
      "text/html": [
       "<div>\n",
       "<style scoped>\n",
       "    .dataframe tbody tr th:only-of-type {\n",
       "        vertical-align: middle;\n",
       "    }\n",
       "\n",
       "    .dataframe tbody tr th {\n",
       "        vertical-align: top;\n",
       "    }\n",
       "\n",
       "    .dataframe thead th {\n",
       "        text-align: right;\n",
       "    }\n",
       "</style>\n",
       "<table border=\"1\" class=\"dataframe\">\n",
       "  <thead>\n",
       "    <tr style=\"text-align: right;\">\n",
       "      <th></th>\n",
       "      <th>year</th>\n",
       "      <th>AssistantEngineer</th>\n",
       "      <th>Engineer</th>\n",
       "      <th>Manager</th>\n",
       "      <th>SeniorEngineer</th>\n",
       "      <th>SeniorStaff</th>\n",
       "      <th>Staff</th>\n",
       "      <th>TechniqueLeader</th>\n",
       "    </tr>\n",
       "  </thead>\n",
       "  <tbody>\n",
       "    <tr>\n",
       "      <th>0</th>\n",
       "      <td>1985</td>\n",
       "      <td>948.0</td>\n",
       "      <td>6472.0</td>\n",
       "      <td>9.0</td>\n",
       "      <td>1835.0</td>\n",
       "      <td>1665.0</td>\n",
       "      <td>6467.0</td>\n",
       "      <td>897.0</td>\n",
       "    </tr>\n",
       "    <tr>\n",
       "      <th>1</th>\n",
       "      <td>1986</td>\n",
       "      <td>989.0</td>\n",
       "      <td>6914.0</td>\n",
       "      <td>0.0</td>\n",
       "      <td>2017.0</td>\n",
       "      <td>1733.0</td>\n",
       "      <td>7169.0</td>\n",
       "      <td>1056.0</td>\n",
       "    </tr>\n",
       "    <tr>\n",
       "      <th>2</th>\n",
       "      <td>1987</td>\n",
       "      <td>980.0</td>\n",
       "      <td>7125.0</td>\n",
       "      <td>0.0</td>\n",
       "      <td>2051.0</td>\n",
       "      <td>1738.0</td>\n",
       "      <td>7136.0</td>\n",
       "      <td>957.0</td>\n",
       "    </tr>\n",
       "    <tr>\n",
       "      <th>3</th>\n",
       "      <td>1988</td>\n",
       "      <td>976.0</td>\n",
       "      <td>7023.0</td>\n",
       "      <td>2.0</td>\n",
       "      <td>2073.0</td>\n",
       "      <td>1825.0</td>\n",
       "      <td>7195.0</td>\n",
       "      <td>1013.0</td>\n",
       "    </tr>\n",
       "    <tr>\n",
       "      <th>4</th>\n",
       "      <td>1989</td>\n",
       "      <td>1047.0</td>\n",
       "      <td>7058.0</td>\n",
       "      <td>2.0</td>\n",
       "      <td>2050.0</td>\n",
       "      <td>1758.0</td>\n",
       "      <td>7363.0</td>\n",
       "      <td>1036.0</td>\n",
       "    </tr>\n",
       "    <tr>\n",
       "      <th>5</th>\n",
       "      <td>1990</td>\n",
       "      <td>1019.0</td>\n",
       "      <td>7267.0</td>\n",
       "      <td>0.0</td>\n",
       "      <td>3224.0</td>\n",
       "      <td>2982.0</td>\n",
       "      <td>7172.0</td>\n",
       "      <td>1005.0</td>\n",
       "    </tr>\n",
       "    <tr>\n",
       "      <th>6</th>\n",
       "      <td>1991</td>\n",
       "      <td>981.0</td>\n",
       "      <td>7261.0</td>\n",
       "      <td>4.0</td>\n",
       "      <td>4555.0</td>\n",
       "      <td>4239.0</td>\n",
       "      <td>7193.0</td>\n",
       "      <td>1041.0</td>\n",
       "    </tr>\n",
       "    <tr>\n",
       "      <th>7</th>\n",
       "      <td>1992</td>\n",
       "      <td>1047.0</td>\n",
       "      <td>7672.0</td>\n",
       "      <td>4.0</td>\n",
       "      <td>5828.0</td>\n",
       "      <td>5475.0</td>\n",
       "      <td>7202.0</td>\n",
       "      <td>1058.0</td>\n",
       "    </tr>\n",
       "    <tr>\n",
       "      <th>8</th>\n",
       "      <td>1993</td>\n",
       "      <td>1033.0</td>\n",
       "      <td>7671.0</td>\n",
       "      <td>0.0</td>\n",
       "      <td>6972.0</td>\n",
       "      <td>6915.0</td>\n",
       "      <td>7176.0</td>\n",
       "      <td>1017.0</td>\n",
       "    </tr>\n",
       "    <tr>\n",
       "      <th>9</th>\n",
       "      <td>1994</td>\n",
       "      <td>1010.0</td>\n",
       "      <td>7855.0</td>\n",
       "      <td>1.0</td>\n",
       "      <td>8141.0</td>\n",
       "      <td>8153.0</td>\n",
       "      <td>7243.0</td>\n",
       "      <td>964.0</td>\n",
       "    </tr>\n",
       "    <tr>\n",
       "      <th>10</th>\n",
       "      <td>1995</td>\n",
       "      <td>968.0</td>\n",
       "      <td>8002.0</td>\n",
       "      <td>0.0</td>\n",
       "      <td>8284.0</td>\n",
       "      <td>8161.0</td>\n",
       "      <td>7026.0</td>\n",
       "      <td>1035.0</td>\n",
       "    </tr>\n",
       "    <tr>\n",
       "      <th>11</th>\n",
       "      <td>1996</td>\n",
       "      <td>1017.0</td>\n",
       "      <td>8115.0</td>\n",
       "      <td>2.0</td>\n",
       "      <td>8443.0</td>\n",
       "      <td>8363.0</td>\n",
       "      <td>7039.0</td>\n",
       "      <td>1036.0</td>\n",
       "    </tr>\n",
       "    <tr>\n",
       "      <th>12</th>\n",
       "      <td>1997</td>\n",
       "      <td>1027.0</td>\n",
       "      <td>8094.0</td>\n",
       "      <td>0.0</td>\n",
       "      <td>8598.0</td>\n",
       "      <td>8189.0</td>\n",
       "      <td>7168.0</td>\n",
       "      <td>984.0</td>\n",
       "    </tr>\n",
       "    <tr>\n",
       "      <th>13</th>\n",
       "      <td>1998</td>\n",
       "      <td>999.0</td>\n",
       "      <td>7988.0</td>\n",
       "      <td>0.0</td>\n",
       "      <td>8456.0</td>\n",
       "      <td>8087.0</td>\n",
       "      <td>7061.0</td>\n",
       "      <td>969.0</td>\n",
       "    </tr>\n",
       "    <tr>\n",
       "      <th>14</th>\n",
       "      <td>1999</td>\n",
       "      <td>989.0</td>\n",
       "      <td>7723.0</td>\n",
       "      <td>0.0</td>\n",
       "      <td>8530.0</td>\n",
       "      <td>7952.0</td>\n",
       "      <td>7152.0</td>\n",
       "      <td>999.0</td>\n",
       "    </tr>\n",
       "    <tr>\n",
       "      <th>15</th>\n",
       "      <td>2000</td>\n",
       "      <td>98.0</td>\n",
       "      <td>1444.0</td>\n",
       "      <td>0.0</td>\n",
       "      <td>6545.0</td>\n",
       "      <td>6224.0</td>\n",
       "      <td>629.0</td>\n",
       "      <td>92.0</td>\n",
       "    </tr>\n",
       "    <tr>\n",
       "      <th>16</th>\n",
       "      <td>2001</td>\n",
       "      <td>0.0</td>\n",
       "      <td>848.0</td>\n",
       "      <td>0.0</td>\n",
       "      <td>6490.0</td>\n",
       "      <td>5940.0</td>\n",
       "      <td>0.0</td>\n",
       "      <td>0.0</td>\n",
       "    </tr>\n",
       "    <tr>\n",
       "      <th>17</th>\n",
       "      <td>2002</td>\n",
       "      <td>0.0</td>\n",
       "      <td>471.0</td>\n",
       "      <td>0.0</td>\n",
       "      <td>3658.0</td>\n",
       "      <td>3454.0</td>\n",
       "      <td>0.0</td>\n",
       "      <td>0.0</td>\n",
       "    </tr>\n",
       "  </tbody>\n",
       "</table>\n",
       "</div>"
      ],
      "text/plain": [
       "    year  AssistantEngineer  Engineer  Manager  SeniorEngineer  SeniorStaff  \\\n",
       "0   1985              948.0    6472.0      9.0          1835.0       1665.0   \n",
       "1   1986              989.0    6914.0      0.0          2017.0       1733.0   \n",
       "2   1987              980.0    7125.0      0.0          2051.0       1738.0   \n",
       "3   1988              976.0    7023.0      2.0          2073.0       1825.0   \n",
       "4   1989             1047.0    7058.0      2.0          2050.0       1758.0   \n",
       "5   1990             1019.0    7267.0      0.0          3224.0       2982.0   \n",
       "6   1991              981.0    7261.0      4.0          4555.0       4239.0   \n",
       "7   1992             1047.0    7672.0      4.0          5828.0       5475.0   \n",
       "8   1993             1033.0    7671.0      0.0          6972.0       6915.0   \n",
       "9   1994             1010.0    7855.0      1.0          8141.0       8153.0   \n",
       "10  1995              968.0    8002.0      0.0          8284.0       8161.0   \n",
       "11  1996             1017.0    8115.0      2.0          8443.0       8363.0   \n",
       "12  1997             1027.0    8094.0      0.0          8598.0       8189.0   \n",
       "13  1998              999.0    7988.0      0.0          8456.0       8087.0   \n",
       "14  1999              989.0    7723.0      0.0          8530.0       7952.0   \n",
       "15  2000               98.0    1444.0      0.0          6545.0       6224.0   \n",
       "16  2001                0.0     848.0      0.0          6490.0       5940.0   \n",
       "17  2002                0.0     471.0      0.0          3658.0       3454.0   \n",
       "\n",
       "     Staff  TechniqueLeader  \n",
       "0   6467.0            897.0  \n",
       "1   7169.0           1056.0  \n",
       "2   7136.0            957.0  \n",
       "3   7195.0           1013.0  \n",
       "4   7363.0           1036.0  \n",
       "5   7172.0           1005.0  \n",
       "6   7193.0           1041.0  \n",
       "7   7202.0           1058.0  \n",
       "8   7176.0           1017.0  \n",
       "9   7243.0            964.0  \n",
       "10  7026.0           1035.0  \n",
       "11  7039.0           1036.0  \n",
       "12  7168.0            984.0  \n",
       "13  7061.0            969.0  \n",
       "14  7152.0            999.0  \n",
       "15   629.0             92.0  \n",
       "16     0.0              0.0  \n",
       "17     0.0              0.0  "
      ]
     },
     "execution_count": 12,
     "metadata": {},
     "output_type": "execute_result"
    }
   ],
   "source": [
    "sql_to_pd(query1)"
   ]
  },
  {
   "cell_type": "code",
   "execution_count": null,
   "metadata": {},
   "outputs": [],
   "source": []
  }
 ],
 "metadata": {
  "kernelspec": {
   "display_name": "Python 3",
   "language": "python",
   "name": "python3"
  },
  "language_info": {
   "codemirror_mode": {
    "name": "ipython",
    "version": 3
   },
   "file_extension": ".py",
   "mimetype": "text/x-python",
   "name": "python",
   "nbconvert_exporter": "python",
   "pygments_lexer": "ipython3",
   "version": "3.7.3"
  },
  "toc": {
   "base_numbering": 1,
   "nav_menu": {},
   "number_sections": true,
   "sideBar": true,
   "skip_h1_title": false,
   "title_cell": "Table of Contents",
   "title_sidebar": "Contents",
   "toc_cell": false,
   "toc_position": {},
   "toc_section_display": true,
   "toc_window_display": false
  },
  "varInspector": {
   "cols": {
    "lenName": 16,
    "lenType": 16,
    "lenVar": 40
   },
   "kernels_config": {
    "python": {
     "delete_cmd_postfix": "",
     "delete_cmd_prefix": "del ",
     "library": "var_list.py",
     "varRefreshCmd": "print(var_dic_list())"
    },
    "r": {
     "delete_cmd_postfix": ") ",
     "delete_cmd_prefix": "rm(",
     "library": "var_list.r",
     "varRefreshCmd": "cat(var_dic_list()) "
    }
   },
   "types_to_exclude": [
    "module",
    "function",
    "builtin_function_or_method",
    "instance",
    "_Feature"
   ],
   "window_display": false
  }
 },
 "nbformat": 4,
 "nbformat_minor": 2
}
